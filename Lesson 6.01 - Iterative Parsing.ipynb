{
 "metadata": {
  "name": "",
  "signature": "sha256:5ff4163aa0b0c62fb2b82842887f4c40498589d74cc42a1227daf745c8aabcfb"
 },
 "nbformat": 3,
 "nbformat_minor": 0,
 "worksheets": [
  {
   "cells": [
    {
     "cell_type": "code",
     "collapsed": false,
     "input": [
      "#!/usr/bin/env python\n",
      "# -*- coding: utf-8 -*-\n",
      "\"\"\"\n",
      "Your task is to use the iterative parsing to process the map file and\n",
      "find out not only what tags are there, but also how many, to get the\n",
      "feeling on how much of which data you can expect to have in the map.\n",
      "The output should be a dictionary with the tag name as the key\n",
      "and number of times this tag can be encountered in the map as value.\n",
      "\n",
      "Note that your code will be tested with a different data file than the 'example.osm'\n",
      "\"\"\"\n",
      "import xml.etree.ElementTree as ET\n",
      "import pprint\n",
      "\n",
      "def count_tags(filename):\n",
      "        tagsDict = {}\n",
      "        \n",
      "        tree = ET.parse(filename)\n",
      "        root = tree.getroot()\n",
      "        \n",
      "        for child in root.iter():\n",
      "            tagsDict[child.tag] = tagsDict.get(child.tag,0) + 1\n",
      "        \n",
      "        return tagsDict\n",
      "\n",
      "\n",
      "def test():\n",
      "\n",
      "    tags = count_tags('example.osm')\n",
      "    pprint.pprint(tags)\n",
      "    assert tags == {'bounds': 1,\n",
      "                     'member': 3,\n",
      "                     'nd': 4,\n",
      "                     'node': 20,\n",
      "                     'osm': 1,\n",
      "                     'relation': 1,\n",
      "                     'tag': 7,\n",
      "                     'way': 1}\n",
      "\n",
      "    \n",
      "\n",
      "if __name__ == \"__main__\":\n",
      "    test()"
     ],
     "language": "python",
     "metadata": {},
     "outputs": []
    }
   ],
   "metadata": {}
  }
 ]
}