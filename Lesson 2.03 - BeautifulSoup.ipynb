{
 "metadata": {
  "name": "",
  "signature": "sha256:0ada477c421d7b148176e27460ad8ce21867b76eef788f07225dd2680ef2bbb1"
 },
 "nbformat": 3,
 "nbformat_minor": 0,
 "worksheets": [
  {
   "cells": [
    {
     "cell_type": "code",
     "collapsed": false,
     "input": [
      "#!/usr/bin/env python\n",
      "# -*- coding: utf-8 -*-\n",
      "# Please note that the function 'make_request' is provided for your reference only.\n",
      "# You will not be able to to actually use it from within the Udacity web UI.\n",
      "# Your task is to process the HTML using BeautifulSoup, extract the hidden\n",
      "# form field values for \"__EVENTVALIDATION\" and \"__VIEWSTATE\" and set the approprate\n",
      "# values in the data dictionary.\n",
      "# All your changes should be in the 'extract_data' function\n",
      "from bs4 import BeautifulSoup\n",
      "import requests\n",
      "import json\n",
      "\n",
      "html_page = \"page_source.html\"\n",
      "\n",
      "\n",
      "def extract_data(page):\n",
      "    data = {\"eventvalidation\": \"\",\n",
      "            \"viewstate\": \"\"}\n",
      "    with open(page, \"r\") as html:\n",
      "        soup = BeautifulSoup(html)\n",
      "        ev = soup.find(id=\"__EVENTVALIDATION\")\n",
      "        data[\"eventvalidation\"] = ev[\"value\"]\n",
      "        \n",
      "        vs = soup.find(id=\"__VIEWSTATE\")\n",
      "        data[\"viewstate\"]= vs[\"value\"]\n",
      "\n",
      "    return data\n",
      "\n",
      "\n",
      "def make_request(data):\n",
      "    eventvalidation = data[\"eventvalidation\"]\n",
      "    viewstate = data[\"viewstate\"]\n",
      "\n",
      "    r = requests.post(\"http://www.transtats.bts.gov/Data_Elements.aspx?Data=2\",\n",
      "                    data={'AirportList': \"BOS\",\n",
      "                          'CarrierList': \"VX\",\n",
      "                          'Submit': 'Submit',\n",
      "                          \"__EVENTTARGET\": \"\",\n",
      "                          \"__EVENTARGUMENT\": \"\",\n",
      "                          \"__EVENTVALIDATION\": eventvalidation,\n",
      "                          \"__VIEWSTATE\": viewstate\n",
      "                    })\n",
      "\n",
      "    return r.text\n",
      "\n",
      "\n",
      "def test():\n",
      "    data = extract_data(html_page)\n",
      "    assert data[\"eventvalidation\"] != \"\"\n",
      "    assert data[\"eventvalidation\"].startswith(\"/wEWjAkCoIj1ng0\")\n",
      "    assert data[\"viewstate\"].startswith(\"/wEPDwUKLTI\")\n",
      "    print \"Test Successful\"\n",
      "    \n",
      "test()"
     ],
     "language": "python",
     "metadata": {},
     "outputs": [
      {
       "output_type": "stream",
       "stream": "stdout",
       "text": [
        "Test Successful\n"
       ]
      }
     ],
     "prompt_number": 6
    },
    {
     "cell_type": "code",
     "collapsed": false,
     "input": [],
     "language": "python",
     "metadata": {},
     "outputs": []
    }
   ],
   "metadata": {}
  }
 ]
}