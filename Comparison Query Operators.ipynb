{
 "metadata": {
  "name": "",
  "signature": "sha256:d4100e61082812d78cb5ab10e51e5700a50eeff07f2d54c02d7244fd60c14bba"
 },
 "nbformat": 3,
 "nbformat_minor": 0,
 "worksheets": [
  {
   "cells": [
    {
     "cell_type": "markdown",
     "metadata": {},
     "source": [
      "Name\tDescription\n",
      "\n",
      "$gte\tMatches values that are greater than the value specified in the query.\n",
      "$gte\tMatches values that are greater than or equal to the value specified in the query.\n",
      "$in     Matches any of the values that exist in an array specified in the query.\n",
      "$lt     Matches values that are less than the value specified in the query.\n",
      "$lte\tMatches values that are less than or equal to the value specified in the query.\n",
      "$ne\t    Matches all values that are not equal to the value specified in the query.\n",
      "$nin\tMatches values that do not exist in an array specified to the query."
     ]
    }
   ],
   "metadata": {}
  }
 ]
}