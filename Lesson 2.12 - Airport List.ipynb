{
 "metadata": {
  "name": "",
  "signature": "sha256:ae5227d4aaae88f741121a79d835ac72dd9ea215f85262ab0f8f04c96d95e2dc"
 },
 "nbformat": 3,
 "nbformat_minor": 0,
 "worksheets": [
  {
   "cells": [
    {
     "cell_type": "code",
     "collapsed": false,
     "input": [
      "#!/usr/bin/env python\n",
      "# -*- coding: utf-8 -*-\n",
      "# All your changes should be in the 'extract_airports' function\n",
      "# It should return a list of airport codes, excluding any combinations like \"All\"\n",
      "\n",
      "from bs4 import BeautifulSoup\n",
      "html_page = \"options.html\"\n",
      "\n",
      "\n",
      "def extract_airports(page):\n",
      "    data = []\n",
      "    with open(page, \"r\") as html:\n",
      "        # do something here to find the necessary values\n",
      "        soup = BeautifulSoup(html)\n",
      "        airport_list = soup.find(id=\"AirportList\")\n",
      "        for option in airport_list.find_all(\"option\"):\n",
      "            if option[\"value\"][:3] != \"All\":\n",
      "                data.append(option[\"value\"])\n",
      "        \n",
      "    print data\n",
      "    return data\n",
      "\n",
      "\n",
      "def test():\n",
      "    data = extract_airports(html_page)\n",
      "    assert len(data) == 15\n",
      "    assert \"ATL\" in data\n",
      "    assert \"ABR\" in data\n",
      "\n",
      "test()"
     ],
     "language": "python",
     "metadata": {},
     "outputs": [
      {
       "output_type": "stream",
       "stream": "stdout",
       "text": [
        "['ATL', 'BWI', 'BOS', 'CLT', 'MDW', 'ORD', 'DFW', 'DEN', 'DTW', 'FLL', 'IAH', 'LAS', 'LAX', 'ABR', 'ABI']\n"
       ]
      }
     ],
     "prompt_number": 2
    },
    {
     "cell_type": "code",
     "collapsed": false,
     "input": [],
     "language": "python",
     "metadata": {},
     "outputs": []
    }
   ],
   "metadata": {}
  }
 ]
}