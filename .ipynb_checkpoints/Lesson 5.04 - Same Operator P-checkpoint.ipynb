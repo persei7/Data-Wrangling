{
 "metadata": {
  "name": "",
  "signature": "sha256:31f8fa632b05ced5baf0ad37b0b95440cc99b6ac1e4f160556f158655e93ee58"
 },
 "nbformat": 3,
 "nbformat_minor": 0,
 "worksheets": [
  {
   "cells": [
    {
     "cell_type": "code",
     "collapsed": false,
     "input": [
      "#!/usr/bin/env python\n",
      "\"\"\"\n",
      "In an earlier exercise we looked at the cities dataset and asked which region in India contains \n",
      "the most cities. In this exercise, we'd like you to answer a related question regarding regions in \n",
      "India. What is the average city population for a region in India? Calculate your answer by first \n",
      "finding the average population of cities in each region and then by calculating the average of the \n",
      "regional averages.\n",
      "\n",
      "Hint: If you want to accumulate using values from all input documents to a group stage, you may use \n",
      "a constant as the value of the \"_id\" field. For example, \n",
      "    { \"$group\" : {\"_id\" : \"India Regional City Population Average\",\n",
      "      ... }\n",
      "\n",
      "Please modify only the 'make_pipeline' function so that it creates and returns an aggregation \n",
      "pipeline that can be passed to the MongoDB aggregate function. As in our examples in this lesson, \n",
      "the aggregation pipeline should be a list of one or more dictionary objects. \n",
      "Please review the lesson examples if you are unsure of the syntax.\n",
      "\n",
      "Your code will be run against a MongoDB instance that we have provided. If you want to run this code \n",
      "locally on your machine, you have to install MongoDB, download and insert the dataset.\n",
      "For instructions related to MongoDB setup and datasets please see Course Materials.\n",
      "\n",
      "Please note that the dataset you are using here is a smaller version of the twitter dataset used \n",
      "in examples in this lesson. If you attempt some of the same queries that we looked at in the lesson \n",
      "examples, your results will be different.\n",
      "\"\"\"\n",
      "\n",
      "def get_db(db_name):\n",
      "    from pymongo import MongoClient\n",
      "    client = MongoClient('localhost:27017')\n",
      "    db = client[db_name]\n",
      "    return db\n",
      "\n",
      "def make_pipeline():\n",
      "    # complete the aggregation pipeline\n",
      "    pipeline = [\n",
      "    { \"$match\" : { \"country\" : \"India\"}},\n",
      "    { \"$unwind\" : \"$isPartOf\"},\n",
      "    { \"$group\" : { \"_id\" : \"$isPartOf\", \n",
      "                   \"avgCityPop\" : { \"$avg\" : \"$population\"}}},\n",
      "    { \"$group\" : { \"_id\" : \"avgCityPop\",\n",
      "                   \"avg\" : { \"$avg\" : \"$avgCityPop\"}}}\n",
      "    ]\n",
      "    return pipeline\n",
      "\n",
      "\n",
      "def aggregate(db, pipeline):\n",
      "    result = db.cities.aggregate(pipeline)\n",
      "    return result\n",
      "\n",
      "if __name__ == '__main__':\n",
      "    db = get_db('examples')\n",
      "    pipeline = make_pipeline()\n",
      "    result = aggregate(db, pipeline)\n",
      "    assert len(result[\"result\"]) == 1\n",
      "    assert result[\"result\"][0][\"avg\"] == 196025.97814809752\n",
      "    import pprint\n",
      "    pprint.pprint(result)\n"
     ],
     "language": "python",
     "metadata": {},
     "outputs": [
      {
       "ename": "AssertionError",
       "evalue": "",
       "output_type": "pyerr",
       "traceback": [
        "\u001b[1;31m---------------------------------------------------------------------------\u001b[0m\n\u001b[1;31mAssertionError\u001b[0m                            Traceback (most recent call last)",
        "\u001b[1;32m<ipython-input-1-0e21caa4f00a>\u001b[0m in \u001b[0;36m<module>\u001b[1;34m()\u001b[0m\n\u001b[0;32m     52\u001b[0m     \u001b[0mpipeline\u001b[0m \u001b[1;33m=\u001b[0m \u001b[0mmake_pipeline\u001b[0m\u001b[1;33m(\u001b[0m\u001b[1;33m)\u001b[0m\u001b[1;33m\u001b[0m\u001b[0m\n\u001b[0;32m     53\u001b[0m     \u001b[0mresult\u001b[0m \u001b[1;33m=\u001b[0m \u001b[0maggregate\u001b[0m\u001b[1;33m(\u001b[0m\u001b[0mdb\u001b[0m\u001b[1;33m,\u001b[0m \u001b[0mpipeline\u001b[0m\u001b[1;33m)\u001b[0m\u001b[1;33m\u001b[0m\u001b[0m\n\u001b[1;32m---> 54\u001b[1;33m     \u001b[1;32massert\u001b[0m \u001b[0mlen\u001b[0m\u001b[1;33m(\u001b[0m\u001b[0mresult\u001b[0m\u001b[1;33m[\u001b[0m\u001b[1;34m\"result\"\u001b[0m\u001b[1;33m]\u001b[0m\u001b[1;33m)\u001b[0m \u001b[1;33m==\u001b[0m \u001b[1;36m1\u001b[0m\u001b[1;33m\u001b[0m\u001b[0m\n\u001b[0m\u001b[0;32m     55\u001b[0m     \u001b[1;32massert\u001b[0m \u001b[0mresult\u001b[0m\u001b[1;33m[\u001b[0m\u001b[1;34m\"result\"\u001b[0m\u001b[1;33m]\u001b[0m\u001b[1;33m[\u001b[0m\u001b[1;36m0\u001b[0m\u001b[1;33m]\u001b[0m\u001b[1;33m[\u001b[0m\u001b[1;34m\"avg\"\u001b[0m\u001b[1;33m]\u001b[0m \u001b[1;33m==\u001b[0m \u001b[1;36m196025.97814809752\u001b[0m\u001b[1;33m\u001b[0m\u001b[0m\n\u001b[0;32m     56\u001b[0m     \u001b[1;32mimport\u001b[0m \u001b[0mpprint\u001b[0m\u001b[1;33m\u001b[0m\u001b[0m\n",
        "\u001b[1;31mAssertionError\u001b[0m: "
       ]
      }
     ],
     "prompt_number": 1
    },
    {
     "cell_type": "code",
     "collapsed": false,
     "input": [],
     "language": "python",
     "metadata": {},
     "outputs": []
    }
   ],
   "metadata": {}
  }
 ]
}