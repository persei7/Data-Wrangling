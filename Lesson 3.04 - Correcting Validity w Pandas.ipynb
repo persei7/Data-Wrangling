{
 "metadata": {
  "name": "",
  "signature": "sha256:6102f3b6af5af30092a9dd234fab3ced573681e8e392e2bf1d42b8ce1b81750a"
 },
 "nbformat": 3,
 "nbformat_minor": 0,
 "worksheets": [
  {
   "cells": [
    {
     "cell_type": "code",
     "collapsed": false,
     "input": [
      "\"\"\"\n",
      "Your task is to check the \"productionStartYear\" of the DBPedia autos datafile for valid values.\n",
      "The following things should be done:\n",
      "- check if the field \"productionStartYear\" contains a year\n",
      "- check if the year is in range 1886-2014\n",
      "- convert the value of the field to be just a year (not full datetime)\n",
      "- the rest of the fields and values should stay the same\n",
      "- if the value of the field is a valid year in range, as described above,\n",
      "  write that line to the output_good file\n",
      "- if the value of the field is not a valid year, \n",
      "  write that line to the output_bad file\n",
      "- discard rows (neither write to good nor bad) if the URI is not from dbpedia.org\n",
      "- you should use the provided way of reading and writing data (DictReader and DictWriter)\n",
      "  They will take care of dealing with the header.\n",
      "\n",
      "You can write helper functions for checking the data and writing the files, but we will call only the \n",
      "'process_file' with 3 arguments (inputfile, output_good, output_bad).\n",
      "\"\"\""
     ],
     "language": "python",
     "metadata": {},
     "outputs": []
    },
    {
     "cell_type": "code",
     "collapsed": false,
     "input": [
      "import pandas as pd\n",
      "import pprint"
     ],
     "language": "python",
     "metadata": {},
     "outputs": [],
     "prompt_number": 4
    },
    {
     "cell_type": "code",
     "collapsed": false,
     "input": [
      "\n",
      "INPUT_FILE = 'autos.csv'\n",
      "OUTPUT_GOOD = 'autos-valid.csv'\n",
      "OUTPUT_BAD = 'FIXME-autos.csv'\n"
     ],
     "language": "python",
     "metadata": {},
     "outputs": []
    },
    {
     "cell_type": "code",
     "collapsed": false,
     "input": [
      "def process_file(input_file, output_good, output_bad):\n",
      "    \n",
      "    pass\n",
      "        "
     ],
     "language": "python",
     "metadata": {},
     "outputs": [],
     "prompt_number": 5
    },
    {
     "cell_type": "code",
     "collapsed": false,
     "input": [
      "\n",
      "def test():\n",
      "\n",
      "    process_file(INPUT_FILE, OUTPUT_GOOD, OUTPUT_BAD)\n",
      "\n",
      "\n",
      "if __name__ == \"__main__\":\n",
      "    test()"
     ],
     "language": "python",
     "metadata": {},
     "outputs": []
    },
    {
     "cell_type": "code",
     "collapsed": false,
     "input": [
      "df = pd.read_csv(\"autos.csv\")"
     ],
     "language": "python",
     "metadata": {},
     "outputs": [],
     "prompt_number": 9
    },
    {
     "cell_type": "code",
     "collapsed": false,
     "input": [
      "df.columns.values"
     ],
     "language": "python",
     "metadata": {},
     "outputs": [
      {
       "metadata": {},
       "output_type": "pyout",
       "prompt_number": 16,
       "text": [
        "array(['URI', 'rdf-schema#label', 'rdf-schema#comment', 'assembly_label',\n",
        "       'assembly', 'automobilePlatform_label', 'automobilePlatform',\n",
        "       'bodyStyle_label', 'bodyStyle', 'class_label', 'class',\n",
        "       'designCompany_label', 'designCompany', 'designer_label',\n",
        "       'designer', 'engine_label', 'engine', 'fuelCapacity', 'height',\n",
        "       'layout_label', 'layout', 'length', 'manufacturer_label',\n",
        "       'manufacturer', 'modelEndYear', 'modelStartYear',\n",
        "       'parentCompany_label', 'parentCompany', 'predecessor_label',\n",
        "       'predecessor', 'productionEndDate', 'productionEndYear',\n",
        "       'productionStartDate', 'productionStartYear',\n",
        "       'relatedMeanOfTransportation_label', 'relatedMeanOfTransportation',\n",
        "       'sales_label', 'sales', 'successor_label', 'successor',\n",
        "       'thumbnail_label', 'thumbnail', 'transmission', 'variantOf_label',\n",
        "       'variantOf', 'vehicle_label', 'vehicle', 'weight', 'wheelbase',\n",
        "       'width', 'point', '22-rdf-syntax-ns#type_label',\n",
        "       '22-rdf-syntax-ns#type', 'wgs84_pos#lat', 'wgs84_pos#long',\n",
        "       'depiction_label', 'depiction', 'name'], dtype=object)"
       ]
      }
     ],
     "prompt_number": 16
    }
   ],
   "metadata": {}
  }
 ]
}