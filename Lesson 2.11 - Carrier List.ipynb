{
 "metadata": {
  "name": "",
  "signature": "sha256:b52b4e471b70656a07aef6139fb0306d036f5d8b0b6a6e37b285ecde83a38ac7"
 },
 "nbformat": 3,
 "nbformat_minor": 0,
 "worksheets": [
  {
   "cells": [
    {
     "cell_type": "code",
     "collapsed": false,
     "input": [
      "#!/usr/bin/env python\n",
      "# -*- coding: utf-8 -*-\n",
      "# Please note that the function 'make_request' is provided for your reference only.\n",
      "# You will not be able to to actually use it from within the Udacity web UI\n",
      "# All your changes should be in the 'extract_carrier' function\n",
      "# Also note that the html file is a stripped down version of what is actually on the website.\n",
      "\n",
      "# Your task in this exercise is to get a list of all airlines. Exclude all of the combination\n",
      "# values, like \"All U.S. Carriers\" from the data that you return.\n",
      "# You should return a list of codes for the carriers.\n",
      "\n",
      "from bs4 import BeautifulSoup\n",
      "html_page = \"options.html\"\n",
      "\n",
      "\n",
      "def extract_carriers(page):\n",
      "    data = []\n",
      "\n",
      "    with open(page, \"r\") as html:\n",
      "        # do something here to find the necessary values\n",
      "        soup = BeautifulSoup(html)\n",
      "        carrier_list = soup.find(id=\"CarrierList\")\n",
      "        for option in carrier_list.find_all(\"option\"):\n",
      "            if option[\"value\"][:3] != \"All\":\n",
      "                data.append(option[\"value\"])\n",
      "        \n",
      "    print data \n",
      "    return data\n",
      "\n",
      "\n",
      "def make_request(data):\n",
      "    eventvalidation = data[\"eventvalidation\"]\n",
      "    viewstate = data[\"viewstate\"]\n",
      "    airport = data[\"airport\"]\n",
      "    carrier = data[\"carrier\"]\n",
      "\n",
      "    r = requests.post(\"http://www.transtats.bts.gov/Data_Elements.aspx?Data=2\",\n",
      "                    data={'AirportList': airport,\n",
      "                          'CarrierList': carrier,\n",
      "                          'Submit': 'Submit',\n",
      "                          \"__EVENTTARGET\": \"\",\n",
      "                          \"__EVENTARGUMENT\": \"\",\n",
      "                          \"__EVENTVALIDATION\": eventvalidation,\n",
      "                          \"__VIEWSTATE\": viewstate\n",
      "                    })\n",
      "\n",
      "    return r.text\n",
      "\n",
      "\n",
      "def test():\n",
      "    data = extract_carriers(html_page)\n",
      "    assert len(data) == 16\n",
      "    assert \"FL\" in data\n",
      "    assert \"NK\" in data\n",
      "\n",
      "test()"
     ],
     "language": "python",
     "metadata": {},
     "outputs": [
      {
       "output_type": "stream",
       "stream": "stdout",
       "text": [
        "['FL', 'AS', 'AA', 'MQ', '5Y', 'DL', 'EV', 'F9', 'HA', 'B6', 'OO', 'WN', 'NK', 'US', 'UA', 'VX']\n"
       ]
      }
     ],
     "prompt_number": 20
    },
    {
     "cell_type": "code",
     "collapsed": false,
     "input": [
      "DDDDDBBB"
     ],
     "language": "python",
     "metadata": {},
     "outputs": [],
     "prompt_number": 20
    },
    {
     "cell_type": "code",
     "collapsed": false,
     "input": [],
     "language": "python",
     "metadata": {},
     "outputs": []
    }
   ],
   "metadata": {}
  }
 ]
}