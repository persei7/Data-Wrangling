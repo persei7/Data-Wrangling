{
 "metadata": {
  "name": "",
  "signature": "sha256:3ab292198a5ee2dd240438025f6017a1409ca01afb3839236dc9fa735e981540"
 },
 "nbformat": 3,
 "nbformat_minor": 0,
 "worksheets": [
  {
   "cells": [
    {
     "cell_type": "markdown",
     "metadata": {},
     "source": [
      "\n",
      "\n",
      "\n",
      "\n",
      "\n",
      "\n",
      "\n",
      "Solutions to the Problem Sets can be found in the following GitHub pages:\n",
      "\n",
      "https://github.com/FlyingDad/UD032-Data-Wrangling-with-MongoDB  \n",
      "  https://github.com/tetronoz/Data-Wrangling-with-MongoDB"
     ]
    },
    {
     "cell_type": "markdown",
     "metadata": {},
     "source": [
      "#### Data Quality\n",
      "\n",
      "* **Validity**: The degree to which entries in the dataset conform to a defined schema or other constraints\n",
      "* **Accuracy**: The degree to which entries to a gold standard set of data\n",
      "* **Completeness**: Do you have all the data tha you should have\n",
      "* **Consistency**: Matches other data accross systems\n",
      "* **Uniformity**: Same units"
     ]
    },
    {
     "cell_type": "code",
     "collapsed": false,
     "input": [],
     "language": "python",
     "metadata": {},
     "outputs": []
    }
   ],
   "metadata": {}
  }
 ]
}