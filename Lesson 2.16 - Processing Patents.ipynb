{
 "metadata": {
  "name": "",
  "signature": "sha256:68c90af79fc2e7b7ed03f616f11e32077cb0d230c9e538840d2de73ed747e109"
 },
 "nbformat": 3,
 "nbformat_minor": 0,
 "worksheets": [
  {
   "cells": [
    {
     "cell_type": "code",
     "collapsed": false,
     "input": [
      "#!/usr/bin/env python\n",
      "# -*- coding: utf-8 -*-\n",
      "# So, the problem is that the gigantic file is actually not a valid XML, because\n",
      "# it has several root elements, and XML declarations.\n",
      "# It is, a matter of fact, a collection of a lot of concatenated XML documents.\n",
      "# So, one solution would be to split the file into separate documents,\n",
      "# so that you can process the resulting files as valid XML documents.\n",
      "\n",
      "import xml.etree.ElementTree as ET\n",
      "\n",
      "PATENTS = 'patent.data'\n",
      "\n",
      "def get_root(fname):\n",
      "    tree = ET.parse(fname)\n",
      "    return tree.getroot()\n",
      "\n",
      "\n",
      "def split_file(filename):\n",
      "    # we want you to split the input file into separate files\n",
      "    # each containing a single patent.\n",
      "    # As a hint - each patent declaration starts with the same line that was causing the error\n",
      "    # The new files should be saved with filename in the following format:\n",
      "    # \"{}-{}\".format(filename, n) where n is a counter, starting from 0.\n",
      "    \n",
      "    data = []\n",
      "    i = -1\n",
      "    f = open(filename, \"r\")\n",
      "    for line in f.readlines():\n",
      "        if line[:5] == \"<?xml\":\n",
      "            i += 1\n",
      "            data.append(\"\")\n",
      "        data[i] += line\n",
      "    f.close()\n",
      "    \n",
      "    \n",
      "    for n in range(len(data)):\n",
      "        output_file = \"{}-{}\".format(filename, n)\n",
      "        f = open(output_file, \"w\")\n",
      "        f.write(data[n])\n",
      "        f.close()\n",
      "\n",
      "def test():\n",
      "    split_file(PATENTS)\n",
      "    for n in range(4):\n",
      "        try:\n",
      "            fname = \"{}-{}\".format(PATENTS, n)\n",
      "            f = open(fname, \"r\")\n",
      "            if not f.readline().startswith(\"<?xml\"):\n",
      "                print \"You have not split the file {} in the correct boundary!\".format(fname)\n",
      "            f.close()\n",
      "        except:\n",
      "            print \"Could not find file {}. Check if the filename is correct!\".format(fname)\n",
      "    \n",
      "    print \"Success ...!\"\n",
      "\n",
      "test()"
     ],
     "language": "python",
     "metadata": {},
     "outputs": [
      {
       "output_type": "stream",
       "stream": "stdout",
       "text": [
        "Success ...!\n"
       ]
      }
     ],
     "prompt_number": 4
    },
    {
     "cell_type": "code",
     "collapsed": false,
     "input": [],
     "language": "python",
     "metadata": {},
     "outputs": [],
     "prompt_number": 3
    },
    {
     "cell_type": "code",
     "collapsed": false,
     "input": [],
     "language": "python",
     "metadata": {},
     "outputs": []
    }
   ],
   "metadata": {}
  }
 ]
}