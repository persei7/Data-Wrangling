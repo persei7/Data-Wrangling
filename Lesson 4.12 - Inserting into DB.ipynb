{
 "metadata": {
  "name": "",
  "signature": "sha256:80c94dd6750fe8122f75f2f6ccf1b33df9464c5020688970a096f72d2cc857ad"
 },
 "nbformat": 3,
 "nbformat_minor": 0,
 "worksheets": [
  {
   "cells": [
    {
     "cell_type": "code",
     "collapsed": false,
     "input": [
      "import json\n",
      "\n",
      "def insert_data(data, db):\n",
      "\n",
      "    db.arachnid.insert(data)\n",
      "\n",
      "\n",
      "if __name__ == \"__main__\":\n",
      "    \n",
      "    from pymongo import MongoClient\n",
      "    client = MongoClient(\"mongodb://localhost:27017\")\n",
      "    db = client.examples\n",
      "\n",
      "    with open('arachnid.json') as f:\n",
      "        data = json.loads(f.read())\n",
      "        insert_data(data, db)\n",
      "        print db.arachnid.find_one()"
     ],
     "language": "python",
     "metadata": {},
     "outputs": [
      {
       "output_type": "stream",
       "stream": "stdout",
       "text": [
        "{u'synonym': None, u'description': u'The genus Argiope includes rather large and spectacular spiders that often have a strikingly coloured abdomen. These spiders are distributed throughout the world. Most countries in tropical or temperate climates host one or more species that are similar in appearance. The etymology of the name is from a Greek name meaning silver-faced.', u'classification': {u'kingdom': u'Animal', u'family': u'Orb-weaver spider', u'order': u'Spider', u'phylum': u'Arthropod', u'genus': None, u'class': u'Arachnid'}, u'uri': u'http://dbpedia.org/resource/Argiope_(spider)', u'label': u'Argiope', u'_id': ObjectId('54c9a76107ed5b23f4598a62'), u'name': u'Argiope'}\n"
       ]
      }
     ],
     "prompt_number": 2
    },
    {
     "cell_type": "code",
     "collapsed": false,
     "input": [],
     "language": "python",
     "metadata": {},
     "outputs": []
    }
   ],
   "metadata": {}
  }
 ]
}