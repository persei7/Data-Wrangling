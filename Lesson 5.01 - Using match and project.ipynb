{
 "metadata": {
  "name": "",
  "signature": "sha256:cd374c90a3ad4da4b36c203a09022d64a6d4311e5773e46fd63a04b5f458c38f"
 },
 "nbformat": 3,
 "nbformat_minor": 0,
 "worksheets": [
  {
   "cells": [
    {
     "cell_type": "code",
     "collapsed": false,
     "input": [
      "#!/usr/bin/env python\n",
      "\"\"\"\n",
      "Write an aggregation query to answer this question:\n",
      "\n",
      "Of the users in the \"Brasilia\" timezone who have tweeted 100 times or more,\n",
      "who has the largest number of followers?\n",
      "\n",
      "The following hints will help you solve this problem:\n",
      "- Time zone is found in the \"time_zone\" field of the user object in each tweet.\n",
      "- The number of tweets for each user is found in the \"statuses_count\" field.\n",
      "  To access these fields you will need to use dot notation (from Lesson 4)\n",
      "- Your aggregation query should return something like the following:\n",
      "{u'ok': 1.0,\n",
      " u'result': [{u'_id': ObjectId('52fd2490bac3fa1975477702'),\n",
      "                  u'followers': 2597,\n",
      "                  u'screen_name': u'marbles',\n",
      "                  u'tweets': 12334}]}\n",
      "\n",
      "Please modify only the 'make_pipeline' function so that it creates and returns an aggregation \n",
      "pipeline that can be passed to the MongoDB aggregate function. As in our examples in this lesson,\n",
      "the aggregation pipeline should be a list of one or more dictionary objects. \n",
      "Please review the lesson examples if you are unsure of the syntax.\n",
      "\n",
      "Your code will be run against a MongoDB instance that we have provided. If you want to run this code\n",
      "locally on your machine, you have to install MongoDB, download and insert the dataset.\n",
      "For instructions related to MongoDB setup and datasets please see Course Materials.\n",
      "\n",
      "Please note that the dataset you are using here is a smaller version of the twitter dataset used \n",
      "in examples in this lesson. If you attempt some of the same queries that we looked at in the lesson \n",
      "examples, your results will be different.\n",
      "\"\"\"\n",
      "\n",
      "def get_db(db_name):\n",
      "    from pymongo import MongoClient\n",
      "    client = MongoClient('localhost:27017')\n",
      "    db = client[db_name]\n",
      "    return db\n",
      "\n",
      "def make_pipeline():\n",
      "    # complete the aggregation pipeline\n",
      "    pipeline = [\n",
      "        { \"$match\" : { \"user.time_zone\" : \"Brasilia\", \n",
      "                       \"user.statuses_count\": { \"$gt\" : 100 }}},\n",
      "        { \"$project\" : { \"followers\" : \"$user.followers_count\",\n",
      "                         \"screen_name\" : \"$user.screen_name\",\n",
      "                         \"tweets\" : \"$user.statuses_count\"}},\n",
      "        { \"$sort\" : {\"followers\" : - 1}},\n",
      "        { \"$limit\" : 1}]\n",
      "\n",
      " \n",
      "    return pipeline\n",
      "\n",
      "def aggregate(db, pipeline):\n",
      "    result = db.tweets.aggregate(pipeline)\n",
      "    return result\n",
      "\n",
      "if __name__ == '__main__':\n",
      "    db = get_db('twitter')\n",
      "    pipeline = make_pipeline()\n",
      "    result = aggregate(db, pipeline)\n",
      "    import pprint\n",
      "    pprint.pprint(result)\n",
      "    assert len(result[\"result\"]) == 1\n",
      "    assert result[\"result\"][0][\"followers\"] == 17209\n",
      "\n"
     ],
     "language": "python",
     "metadata": {},
     "outputs": [
      {
       "ename": "NameError",
       "evalue": "name 'reddit' is not defined",
       "output_type": "pyerr",
       "traceback": [
        "\u001b[1;31m---------------------------------------------------------------------------\u001b[0m\n\u001b[1;31mNameError\u001b[0m                                 Traceback (most recent call last)",
        "\u001b[1;32m<ipython-input-2-7831a9580375>\u001b[0m in \u001b[0;36m<module>\u001b[1;34m()\u001b[0m\n\u001b[1;32m----> 1\u001b[1;33m \u001b[0mreddit\u001b[0m\u001b[1;33m\u001b[0m\u001b[0m\n\u001b[0m",
        "\u001b[1;31mNameError\u001b[0m: name 'reddit' is not defined"
       ]
      }
     ],
     "prompt_number": 2
    }
   ],
   "metadata": {}
  }
 ]
}