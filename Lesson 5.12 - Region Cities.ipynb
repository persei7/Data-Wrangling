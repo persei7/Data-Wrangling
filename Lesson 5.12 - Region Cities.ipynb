{
 "metadata": {
  "name": "",
  "signature": "sha256:636619a93b2f316e324fc991d41fa029c582c60c2df783d237dd779140e3455e"
 },
 "nbformat": 3,
 "nbformat_minor": 0,
 "worksheets": [
  {
   "cells": [
    {
     "cell_type": "code",
     "collapsed": false,
     "input": [
      "#!/usr/bin/env python\n",
      "\"\"\"\n",
      "Use an aggregation query to answer the following question. \n",
      "\n",
      "Which Region in India has the largest number of cities with longitude between 75 and 80?\n",
      "\n",
      "Please modify only the 'make_pipeline' function so that it creates and returns an aggregation \n",
      "pipeline that can be passed to the MongoDB aggregate function. As in our examples in this lesson, \n",
      "the aggregation pipeline should be a list of one or more dictionary objects. \n",
      "Please review the lesson examples if you are unsure of the syntax.\n",
      "\n",
      "Your code will be run against a MongoDB instance that we have provided. If you want to run this \n",
      "code locally on your machine, you have to install MongoDB, download and insert the dataset.\n",
      "For instructions related to MongoDB setup and datasets please see Course Materials.\n",
      "\n",
      "Please note that the dataset you are using here is a smaller version of the twitter dataset used in \n",
      "examples in this lesson. If you attempt some of the same queries that we looked at in the lesson \n",
      "examples, your results will be different.\n",
      "\"\"\"\n",
      "\n",
      "def get_db(db_name):\n",
      "    from pymongo import MongoClient\n",
      "    client = MongoClient('localhost:27017')\n",
      "    db = client[db_name]\n",
      "    return db\n",
      "\n",
      "def make_pipeline():\n",
      "    # complete the aggregation pipeline\n",
      "    pipeline = [ \n",
      "        { \"$match\" : { \"country\": \"India\", \"lon\" : { \"$gte\" : 75, \"$lte\" : 80}}},\n",
      "        { \"$unwind\" : \"$isPartOf\"},\n",
      "        { \"$group\" : { \"_id\" : \"$isPartOf\", \"count\" : { \"$sum\" : 1}}},\n",
      "        { \"$sort\" : { \"count\" : -1 }},\n",
      "        { \"$limit\" : 1 }\n",
      "    ]\n",
      "    return pipeline\n",
      "\n",
      "def aggregate(db, pipeline):\n",
      "    result = db.cities.aggregate(pipeline)\n",
      "    return result\n",
      "\n",
      "if __name__ == '__main__':\n",
      "    db = get_db('examples')\n",
      "    pipeline = make_pipeline()\n",
      "    result = aggregate(db, pipeline)\n",
      "    import pprint\n",
      "    pprint.pprint(result[\"result\"][0])\n",
      "    assert len(result[\"result\"]) == 1\n",
      "    assert result[\"result\"][0][\"_id\"] == 'Tamil Nadu'\n"
     ],
     "language": "python",
     "metadata": {},
     "outputs": []
    }
   ],
   "metadata": {}
  }
 ]
}