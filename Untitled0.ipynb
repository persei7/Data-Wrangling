{
 "metadata": {
  "name": "",
  "signature": "sha256:bdd62f0c0e8452e3c6b17b8fee81849dea7bc1bde09025be63717798ab8133eb"
 },
 "nbformat": 3,
 "nbformat_minor": 0,
 "worksheets": [
  {
   "cells": [
    {
     "cell_type": "code",
     "collapsed": false,
     "input": [],
     "language": "python",
     "metadata": {},
     "outputs": []
    },
    {
     "cell_type": "code",
     "collapsed": false,
     "input": [
      "#!/usr/bin/env python\n",
      "# -*- coding: utf-8 -*-\n",
      "\"\"\"\n",
      "In this problem set you work with cities infobox data, audit it, come up with a cleaning idea and then\n",
      "clean it up. In the first exercise we want you to audit the datatypes that can be found in some \n",
      "particular fields in the dataset.\n",
      "The possible types of values can be:\n",
      "- 'NoneType' if the value is a string \"NULL\" or an empty string \"\"\n",
      "- 'list', if the value starts with \"{\"\n",
      "- 'int', if the value can be cast to int\n",
      "- 'float', if the value can be cast to float, but is not an int\n",
      "- 'str', for all other values\n",
      "\n",
      "The audit_file function should return a dictionary containing fieldnames and a set of the datatypes\n",
      "that can be found in the field.\n",
      "All the data initially is a string, so you have to do some checks on the values first.\n",
      "\n",
      "\"\"\"\n",
      "import codecs\n",
      "import csv\n",
      "import json\n",
      "import pprint\n",
      "\n",
      "CITIES = 'cities.csv'\n",
      "\n",
      "FIELDS = [\"name\", \"timeZone_label\", \"utcOffset\", \"homepage\", \"governmentType_label\", \"isPartOf_label\", \"areaCode\", \"populationTotal\", \n",
      "          \"elevation\", \"maximumElevation\", \"minimumElevation\", \"populationDensity\", \"wgs84_pos#lat\", \"wgs84_pos#long\", \n",
      "          \"areaLand\", \"areaMetro\", \"areaUrban\"]\n",
      "\n",
      "\n",
      "\n",
      "def is_type(entry):\n",
      "    if entry == \"NULL\" or entry == \"\":\n",
      "        return type(None)\n",
      "    if entry[0] == \"{\":\n",
      "        return type([])\n",
      "\n",
      "    try: \n",
      "        int(entry)\n",
      "        return type(1)\n",
      "    except: \n",
      "        pass\n",
      "    try: \n",
      "        float(entry)\n",
      "        return type(1.1)\n",
      "    except: \n",
      "        return type(\"\")\n",
      "    \n",
      "    \n",
      "def audit_file(filename, fields):\n",
      "    \n",
      "\n",
      "    with open(\"cities.csv\",\"r\") as f:\n",
      "        reader = csv.DictReader(f)\n",
      "        fieldnames = reader.fieldnames\n",
      "        \n",
      "        \n",
      "        fieldtypes = {k: set() for k in fieldnames}\n",
      "        \n",
      "        count = 0\n",
      "        for row in reader:\n",
      "            count += 1\n",
      "            if count > 3:\n",
      "                for fieldname in fieldnames:\n",
      "                    fieldtypes[fieldname].add(is_type(row[fieldname]))\n",
      "                    #if fieldname == 'areaLand':\n",
      "                        #print row[fieldname], is_type(row[fieldname])\n",
      "                    \n",
      "                    \n",
      "    \n",
      "    return fieldtypes\n",
      "\n",
      "\n",
      "def test():\n",
      "    fieldtypes = audit_file(CITIES, FIELDS)\n",
      "\n",
      "    #pprint.pprint(fieldtypes)\n",
      "\n",
      "    assert fieldtypes[\"areaLand\"] == set([type(1.1), type([]), type(None)])\n",
      "    assert fieldtypes['areaMetro'] == set([type(1.1), type(None)])\n",
      "    \n",
      "if __name__ == \"__main__\":\n",
      "    test()\n"
     ],
     "language": "python",
     "metadata": {},
     "outputs": [],
     "prompt_number": 76
    },
    {
     "cell_type": "code",
     "collapsed": false,
     "input": [
      "'areaLand': set(['NoneType', 'list', 'str'])"
     ],
     "language": "python",
     "metadata": {},
     "outputs": [
      {
       "ename": "SyntaxError",
       "evalue": "invalid syntax (<ipython-input-33-94e0132e5ccb>, line 1)",
       "output_type": "pyerr",
       "traceback": [
        "\u001b[1;36m  File \u001b[1;32m\"<ipython-input-33-94e0132e5ccb>\"\u001b[1;36m, line \u001b[1;32m1\u001b[0m\n\u001b[1;33m    'areaLand': set(['NoneType', 'list', 'str'])\u001b[0m\n\u001b[1;37m              ^\u001b[0m\n\u001b[1;31mSyntaxError\u001b[0m\u001b[1;31m:\u001b[0m invalid syntax\n"
       ]
      }
     ],
     "prompt_number": 33
    },
    {
     "cell_type": "code",
     "collapsed": false,
     "input": [
      "fieldtypes = audit_file(CITIES, FIELDS)\n",
      "fieldtypes['areaLand']"
     ],
     "language": "python",
     "metadata": {},
     "outputs": [
      {
       "output_type": "stream",
       "stream": "stdout",
       "text": [
        "http://dbpedia.org/ontology/areaLand\n",
        "XMLSchema#double\n",
        "http://www.w3.org/2001/XMLSchema#double\n",
        "NULL\n",
        "NULL\n",
        "NULL\n",
        "NULL\n",
        "NULL\n",
        "NULL\n",
        "{1.01787e+08|1.019e+08}\n",
        "{3.15979e+07|3.17e+07}\n",
        "{5.51667e+07|5.53e+07}\n",
        "{6.36e+07|6.37137e+07}\n",
        "{3.78138e+07|3.79e+07}\n",
        "{2.02e+07|2.02019e+07}\n",
        "{2.87489e+08|2.875e+08}\n",
        "{2.5355e+07|2.5356e+07}\n",
        "{2.512e+08|2.51229e+08}\n",
        "{8.25e+07|8.26206e+07}\n",
        "3.58195e+07\n",
        "1.13e+07\n",
        "5.32e+07\n",
        "{4.48e+06|4.48068e+06}\n",
        "{1.458e+07|1.45816e+07}\n",
        "{1.71198e+07|1.712e+07}\n",
        "{2.07e+06|2.07199e+06}\n",
        "{4.61e+06|4.61018e+06}\n",
        "{3.26e+06|3.26339e+06}\n",
        "{9.057e+07|9.05719e+07}\n",
        "{1.274e+07|1.27427e+07}\n",
        "{3.136e+07|3.13648e+07}\n",
        "{5.31466e+07|5.315e+07}\n",
        "{3.43173e+07|3.432e+07}\n",
        "{5.33538e+06|5.34e+06}\n",
        "{8.184e+07|8.18436e+07}\n",
        "{1.13959e+07|1.14e+07}\n",
        "{2.056e+07|2.05645e+07}\n",
        "{9.782e+07|9.78239e+07}\n",
        "NULL\n",
        "NULL\n",
        "{4.94688e+06|4.95e+06}\n",
        "{1.20175e+07|1.202e+07}\n"
       ]
      },
      {
       "metadata": {},
       "output_type": "pyout",
       "prompt_number": 42,
       "text": [
        "{list, NoneType, str}"
       ]
      }
     ],
     "prompt_number": 42
    },
    {
     "cell_type": "code",
     "collapsed": false,
     "input": [
      "int(5.32e+07)\n"
     ],
     "language": "python",
     "metadata": {},
     "outputs": [
      {
       "metadata": {},
       "output_type": "pyout",
       "prompt_number": 52,
       "text": [
        "53200000"
       ]
      }
     ],
     "prompt_number": 52
    }
   ],
   "metadata": {}
  }
 ]
}